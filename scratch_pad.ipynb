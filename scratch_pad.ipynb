{
 "cells": [
  {
   "cell_type": "code",
   "id": "initial_id",
   "metadata": {
    "collapsed": true,
    "ExecuteTime": {
     "end_time": "2025-10-02T08:16:49.575302Z",
     "start_time": "2025-10-02T08:16:48.755907Z"
    }
   },
   "source": [
    "import torch\n",
    "from pprint import pprint\n",
    "from quantum_error_correction import QuantumErrorCorrection\n",
    "device = torch.device('mps' if torch.mps.is_available() else 'cpu')"
   ],
   "outputs": [],
   "execution_count": 1
  },
  {
   "metadata": {
    "ExecuteTime": {
     "end_time": "2025-10-02T08:16:49.645756Z",
     "start_time": "2025-10-02T08:16:49.577313Z"
    }
   },
   "cell_type": "code",
   "source": [
    "code_type = 'three_qubit'\n",
    "# code_type = 'five_qubit_surface'\n",
    "# code_type = 'thirteen_qubit_surface'\n",
    "qec = QuantumErrorCorrection(code_type=code_type, device=device)"
   ],
   "id": "2803076be322d7b2",
   "outputs": [],
   "execution_count": 2
  },
  {
   "metadata": {
    "ExecuteTime": {
     "end_time": "2025-10-02T08:16:49.689731Z",
     "start_time": "2025-10-02T08:16:49.646405Z"
    }
   },
   "cell_type": "code",
   "source": [
    "code = qec.code\n",
    "pprint(code.generate_syndromes())"
   ],
   "id": "89809534e682d931",
   "outputs": [
    {
     "name": "stdout",
     "output_type": "stream",
     "text": [
      "{'X_1': (0, 1),\n",
      " 'X_2': (1, 1),\n",
      " 'X_3': (1, 0),\n",
      " 'Z_1': (0, 0),\n",
      " 'Z_2': (0, 0),\n",
      " 'Z_3': (0, 0)}\n"
     ]
    }
   ],
   "execution_count": 3
  },
  {
   "metadata": {
    "ExecuteTime": {
     "end_time": "2025-10-02T08:16:49.695607Z",
     "start_time": "2025-10-02T08:16:49.690273Z"
    }
   },
   "cell_type": "code",
   "source": [
    "syn = {'X_1': (0, 0, 1, 0, 0, 0, 0, 0, 0, 0, 0, 0), 'Z_1': (1, 0, 0, 0, 0, 0, 0, 0, 0, 0, 0, 0), 'X_2': (0, 0, 0, 1, 0, 0, 0, 0, 0, 0, 0, 0), 'Z_2': (1, 1, 0, 0, 0, 0, 0, 0, 0, 0, 0, 0), 'X_3': (0, 0, 0, 0, 1, 0, 0, 0, 0, 0, 0, 0), 'Z_3': (0, 1, 0, 0, 0, 0, 0, 0, 0, 0, 0, 0), 'X_4': (0, 0, 1, 1, 0, 0, 0, 0, 0, 0, 0, 0), 'Z_4': (1, 0, 0, 0, 0, 1, 0, 0, 0, 0, 0, 0), 'X_5': (0, 0, 0, 1, 1, 0, 0, 0, 0, 0, 0, 0), 'Z_5': (0, 1, 0, 0, 0, 0, 1, 0, 0, 0, 0, 0), 'X_6': (0, 0, 1, 0, 0, 0, 0, 1, 0, 0, 0, 0), 'Z_6': (0, 0, 0, 0, 0, 1, 0, 0, 0, 0, 0, 0), 'X_7': (0, 0, 0, 1, 0, 0, 0, 0, 1, 0, 0, 0), 'Z_7': (0, 0, 0, 0, 0, 1, 1, 0, 0, 0, 0, 0), 'X_8': (0, 0, 0, 0, 1, 0, 0, 0, 0, 1, 0, 0), 'Z_8': (0, 0, 0, 0, 0, 0, 1, 0, 0, 0, 0, 0), 'X_9': (0, 0, 0, 0, 0, 0, 0, 1, 1, 0, 0, 0), 'Z_9': (0, 0, 0, 0, 0, 1, 0, 0, 0, 0, 1, 0), 'X_10': (0, 0, 0, 0, 0, 0, 0, 0, 1, 1, 0, 0), 'Z_10': (0, 0, 0, 0, 0, 0, 1, 0, 0, 0, 0, 1), 'X_11': (0, 0, 0, 0, 0, 0, 0, 1, 0, 0, 0, 0), 'Z_11': (0, 0, 0, 0, 0, 0, 0, 0, 0, 0, 1, 0), 'X_12': (0, 0, 0, 0, 0, 0, 0, 0, 1, 0, 0, 0), 'Z_12': (0, 0, 0, 0, 0, 0, 0, 0, 0, 0, 1, 1), 'X_13': (0, 0, 0, 0, 0, 0, 0, 0, 0, 1, 0, 0), 'Z_13': (0, 0, 0, 0, 0, 0, 0, 0, 0, 0, 0, 1)}\n",
    "\n",
    "pprint(syn)\n",
    "\n",
    "# Extract all the tuples\n",
    "values = list(syn.values())\n",
    "\n",
    "# Compare length with length of set\n",
    "all_unique = len(values) == len(set(values))\n",
    "\n",
    "print(all_unique)  # True if all tuples are unique\n"
   ],
   "id": "93571b1baea105dd",
   "outputs": [
    {
     "name": "stdout",
     "output_type": "stream",
     "text": [
      "{'X_1': (0, 0, 1, 0, 0, 0, 0, 0, 0, 0, 0, 0),\n",
      " 'X_10': (0, 0, 0, 0, 0, 0, 0, 0, 1, 1, 0, 0),\n",
      " 'X_11': (0, 0, 0, 0, 0, 0, 0, 1, 0, 0, 0, 0),\n",
      " 'X_12': (0, 0, 0, 0, 0, 0, 0, 0, 1, 0, 0, 0),\n",
      " 'X_13': (0, 0, 0, 0, 0, 0, 0, 0, 0, 1, 0, 0),\n",
      " 'X_2': (0, 0, 0, 1, 0, 0, 0, 0, 0, 0, 0, 0),\n",
      " 'X_3': (0, 0, 0, 0, 1, 0, 0, 0, 0, 0, 0, 0),\n",
      " 'X_4': (0, 0, 1, 1, 0, 0, 0, 0, 0, 0, 0, 0),\n",
      " 'X_5': (0, 0, 0, 1, 1, 0, 0, 0, 0, 0, 0, 0),\n",
      " 'X_6': (0, 0, 1, 0, 0, 0, 0, 1, 0, 0, 0, 0),\n",
      " 'X_7': (0, 0, 0, 1, 0, 0, 0, 0, 1, 0, 0, 0),\n",
      " 'X_8': (0, 0, 0, 0, 1, 0, 0, 0, 0, 1, 0, 0),\n",
      " 'X_9': (0, 0, 0, 0, 0, 0, 0, 1, 1, 0, 0, 0),\n",
      " 'Z_1': (1, 0, 0, 0, 0, 0, 0, 0, 0, 0, 0, 0),\n",
      " 'Z_10': (0, 0, 0, 0, 0, 0, 1, 0, 0, 0, 0, 1),\n",
      " 'Z_11': (0, 0, 0, 0, 0, 0, 0, 0, 0, 0, 1, 0),\n",
      " 'Z_12': (0, 0, 0, 0, 0, 0, 0, 0, 0, 0, 1, 1),\n",
      " 'Z_13': (0, 0, 0, 0, 0, 0, 0, 0, 0, 0, 0, 1),\n",
      " 'Z_2': (1, 1, 0, 0, 0, 0, 0, 0, 0, 0, 0, 0),\n",
      " 'Z_3': (0, 1, 0, 0, 0, 0, 0, 0, 0, 0, 0, 0),\n",
      " 'Z_4': (1, 0, 0, 0, 0, 1, 0, 0, 0, 0, 0, 0),\n",
      " 'Z_5': (0, 1, 0, 0, 0, 0, 1, 0, 0, 0, 0, 0),\n",
      " 'Z_6': (0, 0, 0, 0, 0, 1, 0, 0, 0, 0, 0, 0),\n",
      " 'Z_7': (0, 0, 0, 0, 0, 1, 1, 0, 0, 0, 0, 0),\n",
      " 'Z_8': (0, 0, 0, 0, 0, 0, 1, 0, 0, 0, 0, 0),\n",
      " 'Z_9': (0, 0, 0, 0, 0, 1, 0, 0, 0, 0, 1, 0)}\n",
      "True\n"
     ]
    }
   ],
   "execution_count": 4
  },
  {
   "metadata": {
    "ExecuteTime": {
     "end_time": "2025-10-02T08:19:29.694772Z",
     "start_time": "2025-10-02T08:19:29.649405Z"
    }
   },
   "cell_type": "code",
   "source": [
    "import torch\n",
    "from quantum_error_correction import QuantumErrorCorrection\n",
    "from analysis import QuantumAnalysis\n",
    "\n",
    "# Select device\n",
    "if torch.mps.is_available():\n",
    "    DEVICE = torch.device(\"mps\")\n",
    "elif torch.cuda.is_available():\n",
    "    DEVICE = torch.device(\"cuda\")\n",
    "else:\n",
    "    DEVICE = torch.device(\"cpu\")\n",
    "\n",
    "# Initialize QEC for three-qubit code\n",
    "qec = QuantumErrorCorrection(code_type=\"three_qubit\", device=DEVICE)\n",
    "\n",
    "# Build dense superoperator\n",
    "super_dense = qec.build_superoperator(tricky=False, sparse=False)\n",
    "\n",
    "# Build sparse superoperator\n",
    "super_sparse = qec.build_superoperator(tricky=False, sparse=True)\n",
    "\n",
    "print(\"Dense superoperator shape:\", super_dense.shape)\n",
    "print(\"Sparse superoperator shape:\", super_sparse.shape, \" nnz =\", super_sparse.nnz)\n",
    "print(torch.allclose(super_dense, torch.tensor(super_sparse.toarray(), dtype=super_dense.dtype, device=super_dense.device)))\n",
    "\n",
    "# Compute eigenvalues and singular values\n",
    "results_dense = QuantumAnalysis.compute_eigenvalues_and_singular_values(super_dense, sparse=False)\n",
    "results_sparse = QuantumAnalysis.compute_eigenvalues_and_singular_values(super_sparse, sparse=True)\n",
    "\n",
    "analysis_dense = QuantumAnalysis.analyze_spectrum(results_dense)\n",
    "analysis_sparse = QuantumAnalysis.analyze_spectrum(results_sparse)\n",
    "\n",
    "# Compare eigenvalue magnitudes\n",
    "print(\"\\nEigenvalue Magnitudes (Dense):\")\n",
    "for val, count in zip(analysis_dense['unique_eigenvalue_magnitudes'], \n",
    "                      analysis_dense['eigenvalue_multiplicities']):\n",
    "    print(f\"  {val:.3f}: {count}\")\n",
    "\n",
    "print(\"\\nEigenvalue Magnitudes (Sparse):\")\n",
    "for val, count in zip(analysis_sparse['unique_eigenvalue_magnitudes'], \n",
    "                      analysis_sparse['eigenvalue_multiplicities']):\n",
    "    print(f\"  {val:.3f}: {count}\")\n",
    "\n",
    "# Compare singular values\n",
    "print(\"\\nSingular Values (Dense):\")\n",
    "for val, count in zip(analysis_dense['unique_singular_values'], \n",
    "                      analysis_dense['singular_value_multiplicities']):\n",
    "    print(f\"  {val:.3f}: {count}\")\n",
    "\n",
    "print(\"\\nSingular Values (Sparse):\")\n",
    "for val, count in zip(analysis_sparse['unique_singular_values'], \n",
    "                      analysis_sparse['singular_value_multiplicities']):\n",
    "    print(f\"  {val:.3f}: {count}\")"
   ],
   "id": "603be1734faccfdd",
   "outputs": [
    {
     "name": "stdout",
     "output_type": "stream",
     "text": [
      "Dense superoperator shape: torch.Size([64, 64])\n",
      "Sparse superoperator shape: (64, 64)  nnz = 16\n",
      "True\n",
      "\n",
      "Eigenvalue Magnitudes (Dense):\n",
      "  0.000: 60\n",
      "  1.000: 4\n",
      "\n",
      "Eigenvalue Magnitudes (Sparse):\n",
      "  0.000: 58\n",
      "  1.000: 4\n",
      "\n",
      "Singular Values (Dense):\n",
      "  0.000: 60\n",
      "  2.000: 4\n",
      "\n",
      "Singular Values (Sparse):\n",
      "  0.000: 58\n",
      "  2.000: 4\n"
     ]
    }
   ],
   "execution_count": 10
  },
  {
   "metadata": {},
   "cell_type": "code",
   "outputs": [],
   "execution_count": null,
   "source": "",
   "id": "105d496c759284c0"
  }
 ],
 "metadata": {
  "kernelspec": {
   "display_name": "Python 3",
   "language": "python",
   "name": "python3"
  },
  "language_info": {
   "codemirror_mode": {
    "name": "ipython",
    "version": 2
   },
   "file_extension": ".py",
   "mimetype": "text/x-python",
   "name": "python",
   "nbconvert_exporter": "python",
   "pygments_lexer": "ipython2",
   "version": "2.7.6"
  }
 },
 "nbformat": 4,
 "nbformat_minor": 5
}
