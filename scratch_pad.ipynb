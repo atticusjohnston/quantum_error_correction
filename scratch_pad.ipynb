{
 "cells": [
  {
   "cell_type": "code",
   "id": "initial_id",
   "metadata": {
    "collapsed": true,
    "ExecuteTime": {
     "end_time": "2025-10-01T06:38:12.168802Z",
     "start_time": "2025-10-01T06:38:11.612878Z"
    }
   },
   "source": [
    "import torch\n",
    "from pprint import pprint\n",
    "from quantum_error_correction import QuantumErrorCorrection"
   ],
   "outputs": [],
   "execution_count": 1
  },
  {
   "metadata": {
    "ExecuteTime": {
     "end_time": "2025-10-01T06:38:14.244577Z",
     "start_time": "2025-10-01T06:38:12.169880Z"
    }
   },
   "cell_type": "code",
   "source": [
    "# code_type = 'three_qubit'\n",
    "# code_type = 'five_qubit_surface'\n",
    "code_type = 'thirteen_qubit_surface'\n",
    "qec = QuantumErrorCorrection(code_type=code_type)"
   ],
   "id": "2803076be322d7b2",
   "outputs": [],
   "execution_count": 2
  },
  {
   "metadata": {
    "ExecuteTime": {
     "end_time": "2025-10-01T06:38:48.372234Z",
     "start_time": "2025-10-01T06:38:14.245875Z"
    }
   },
   "cell_type": "code",
   "source": [
    "code = qec.code\n",
    "pprint(code.generate_syndromes())"
   ],
   "id": "89809534e682d931",
   "outputs": [
    {
     "ename": "KeyboardInterrupt",
     "evalue": "",
     "output_type": "error",
     "traceback": [
      "\u001B[31m---------------------------------------------------------------------------\u001B[39m",
      "\u001B[31mKeyboardInterrupt\u001B[39m                         Traceback (most recent call last)",
      "\u001B[36mCell\u001B[39m\u001B[36m \u001B[39m\u001B[32mIn[3]\u001B[39m\u001B[32m, line 2\u001B[39m\n\u001B[32m      1\u001B[39m code = qec.code\n\u001B[32m----> \u001B[39m\u001B[32m2\u001B[39m pprint(\u001B[43mcode\u001B[49m\u001B[43m.\u001B[49m\u001B[43mgenerate_syndromes\u001B[49m\u001B[43m(\u001B[49m\u001B[43m)\u001B[49m)\n",
      "\u001B[36mFile \u001B[39m\u001B[32m~/Documents/uq-coding-assignments/quantum_error_correction/error_codes.py:30\u001B[39m, in \u001B[36mErrorCorrectionCode.generate_syndromes\u001B[39m\u001B[34m(self)\u001B[39m\n\u001B[32m     27\u001B[39m     error[i] = \u001B[38;5;28mself\u001B[39m.states.pauli_X\n\u001B[32m     28\u001B[39m     error_op = kron_multiple(*error)\n\u001B[32m---> \u001B[39m\u001B[32m30\u001B[39m     syndrome = \u001B[38;5;28;43mtuple\u001B[39;49m\u001B[43m(\u001B[49m\n\u001B[32m     31\u001B[39m \u001B[43m        \u001B[49m\u001B[32;43m1\u001B[39;49m\u001B[43m \u001B[49m\u001B[38;5;28;43;01mif\u001B[39;49;00m\u001B[43m \u001B[49m\u001B[38;5;129;43;01mnot\u001B[39;49;00m\u001B[43m \u001B[49m\u001B[43mcommutes\u001B[49m\u001B[43m(\u001B[49m\u001B[43merror_op\u001B[49m\u001B[43m,\u001B[49m\u001B[43m \u001B[49m\u001B[43mstab\u001B[49m\u001B[43m)\u001B[49m\u001B[43m \u001B[49m\u001B[38;5;28;43;01melse\u001B[39;49;00m\u001B[43m \u001B[49m\u001B[32;43m0\u001B[39;49m\n\u001B[32m     32\u001B[39m \u001B[43m        \u001B[49m\u001B[38;5;28;43;01mfor\u001B[39;49;00m\u001B[43m \u001B[49m\u001B[43mstab\u001B[49m\u001B[43m \u001B[49m\u001B[38;5;129;43;01min\u001B[39;49;00m\u001B[43m \u001B[49m\u001B[38;5;28;43mself\u001B[39;49m\u001B[43m.\u001B[49m\u001B[43mstabilizers\u001B[49m\n\u001B[32m     33\u001B[39m \u001B[43m    \u001B[49m\u001B[43m)\u001B[49m\n\u001B[32m     34\u001B[39m     syndrome_map[\u001B[33mf\u001B[39m\u001B[33m'\u001B[39m\u001B[33mX_\u001B[39m\u001B[38;5;132;01m{\u001B[39;00mi\u001B[38;5;250m \u001B[39m+\u001B[38;5;250m \u001B[39m\u001B[32m1\u001B[39m\u001B[38;5;132;01m}\u001B[39;00m\u001B[33m'\u001B[39m] = syndrome\n\u001B[32m     36\u001B[39m \u001B[38;5;28;01mfor\u001B[39;00m i \u001B[38;5;129;01min\u001B[39;00m \u001B[38;5;28mrange\u001B[39m(\u001B[38;5;28mself\u001B[39m.n_qubits):\n",
      "\u001B[36mFile \u001B[39m\u001B[32m~/Documents/uq-coding-assignments/quantum_error_correction/error_codes.py:31\u001B[39m, in \u001B[36m<genexpr>\u001B[39m\u001B[34m(.0)\u001B[39m\n\u001B[32m     27\u001B[39m     error[i] = \u001B[38;5;28mself\u001B[39m.states.pauli_X\n\u001B[32m     28\u001B[39m     error_op = kron_multiple(*error)\n\u001B[32m     30\u001B[39m     syndrome = \u001B[38;5;28mtuple\u001B[39m(\n\u001B[32m---> \u001B[39m\u001B[32m31\u001B[39m         \u001B[32m1\u001B[39m \u001B[38;5;28;01mif\u001B[39;00m \u001B[38;5;129;01mnot\u001B[39;00m \u001B[43mcommutes\u001B[49m\u001B[43m(\u001B[49m\u001B[43merror_op\u001B[49m\u001B[43m,\u001B[49m\u001B[43m \u001B[49m\u001B[43mstab\u001B[49m\u001B[43m)\u001B[49m \u001B[38;5;28;01melse\u001B[39;00m \u001B[32m0\u001B[39m\n\u001B[32m     32\u001B[39m         \u001B[38;5;28;01mfor\u001B[39;00m stab \u001B[38;5;129;01min\u001B[39;00m \u001B[38;5;28mself\u001B[39m.stabilizers\n\u001B[32m     33\u001B[39m     )\n\u001B[32m     34\u001B[39m     syndrome_map[\u001B[33mf\u001B[39m\u001B[33m'\u001B[39m\u001B[33mX_\u001B[39m\u001B[38;5;132;01m{\u001B[39;00mi\u001B[38;5;250m \u001B[39m+\u001B[38;5;250m \u001B[39m\u001B[32m1\u001B[39m\u001B[38;5;132;01m}\u001B[39;00m\u001B[33m'\u001B[39m] = syndrome\n\u001B[32m     36\u001B[39m \u001B[38;5;28;01mfor\u001B[39;00m i \u001B[38;5;129;01min\u001B[39;00m \u001B[38;5;28mrange\u001B[39m(\u001B[38;5;28mself\u001B[39m.n_qubits):\n",
      "\u001B[36mFile \u001B[39m\u001B[32m~/Documents/uq-coding-assignments/quantum_error_correction/utils.py:32\u001B[39m, in \u001B[36mcommutes\u001B[39m\u001B[34m(A, B)\u001B[39m\n\u001B[32m     31\u001B[39m \u001B[38;5;28;01mdef\u001B[39;00m\u001B[38;5;250m \u001B[39m\u001B[34mcommutes\u001B[39m(A, B):\n\u001B[32m---> \u001B[39m\u001B[32m32\u001B[39m     \u001B[38;5;28;01mreturn\u001B[39;00m \u001B[43mtorch\u001B[49m\u001B[43m.\u001B[49m\u001B[43mequal\u001B[49m\u001B[43m(\u001B[49m\u001B[43mA\u001B[49m\u001B[43m \u001B[49m\u001B[43m@\u001B[49m\u001B[43m \u001B[49m\u001B[43mB\u001B[49m\u001B[43m,\u001B[49m\u001B[43m \u001B[49m\u001B[43mB\u001B[49m\u001B[43m \u001B[49m\u001B[43m@\u001B[49m\u001B[43m \u001B[49m\u001B[43mA\u001B[49m\u001B[43m)\u001B[49m\n",
      "\u001B[31mKeyboardInterrupt\u001B[39m: "
     ]
    }
   ],
   "execution_count": 3
  },
  {
   "metadata": {},
   "cell_type": "code",
   "source": "",
   "id": "93571b1baea105dd",
   "outputs": [],
   "execution_count": null
  }
 ],
 "metadata": {
  "kernelspec": {
   "display_name": "Python 3",
   "language": "python",
   "name": "python3"
  },
  "language_info": {
   "codemirror_mode": {
    "name": "ipython",
    "version": 2
   },
   "file_extension": ".py",
   "mimetype": "text/x-python",
   "name": "python",
   "nbconvert_exporter": "python",
   "pygments_lexer": "ipython2",
   "version": "2.7.6"
  }
 },
 "nbformat": 4,
 "nbformat_minor": 5
}
