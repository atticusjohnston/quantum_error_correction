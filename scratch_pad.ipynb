{
 "cells": [
  {
   "cell_type": "code",
   "id": "initial_id",
   "metadata": {
    "collapsed": true,
    "ExecuteTime": {
     "end_time": "2025-10-01T05:36:33.556680Z",
     "start_time": "2025-10-01T05:36:33.554951Z"
    }
   },
   "source": [
    "import torch\n",
    "from pprint import pprint\n",
    "from quantum_error_correction import QuantumErrorCorrection"
   ],
   "outputs": [],
   "execution_count": 29
  },
  {
   "metadata": {
    "ExecuteTime": {
     "end_time": "2025-10-01T05:36:33.559585Z",
     "start_time": "2025-10-01T05:36:33.557489Z"
    }
   },
   "cell_type": "code",
   "source": [
    "# code_type = 'three_qubit'\n",
    "code_type = 'five_qubit_surface'\n",
    "qec = QuantumErrorCorrection(code_type=code_type)"
   ],
   "id": "2803076be322d7b2",
   "outputs": [],
   "execution_count": 30
  },
  {
   "metadata": {
    "ExecuteTime": {
     "end_time": "2025-10-01T05:36:33.564270Z",
     "start_time": "2025-10-01T05:36:33.560330Z"
    }
   },
   "cell_type": "code",
   "source": [
    "code = qec.code\n",
    "pprint(code.generate_syndromes())"
   ],
   "id": "89809534e682d931",
   "outputs": [
    {
     "name": "stdout",
     "output_type": "stream",
     "text": [
      "{'X_1': (0, 1, 0, 0),\n",
      " 'X_2': (0, 0, 1, 0),\n",
      " 'X_3': (0, 1, 1, 0),\n",
      " 'X_4': (0, 1, 0, 0),\n",
      " 'X_5': (0, 0, 1, 0),\n",
      " 'Z_1': (1, 0, 0, 0),\n",
      " 'Z_2': (1, 0, 0, 0),\n",
      " 'Z_3': (1, 0, 0, 1),\n",
      " 'Z_4': (0, 0, 0, 1),\n",
      " 'Z_5': (0, 0, 0, 1)}\n"
     ]
    }
   ],
   "execution_count": 31
  },
  {
   "metadata": {
    "ExecuteTime": {
     "end_time": "2025-10-01T05:36:33.565859Z",
     "start_time": "2025-10-01T05:36:33.564718Z"
    }
   },
   "cell_type": "code",
   "source": "",
   "id": "93571b1baea105dd",
   "outputs": [],
   "execution_count": 31
  }
 ],
 "metadata": {
  "kernelspec": {
   "display_name": "Python 3",
   "language": "python",
   "name": "python3"
  },
  "language_info": {
   "codemirror_mode": {
    "name": "ipython",
    "version": 2
   },
   "file_extension": ".py",
   "mimetype": "text/x-python",
   "name": "python",
   "nbconvert_exporter": "python",
   "pygments_lexer": "ipython2",
   "version": "2.7.6"
  }
 },
 "nbformat": 4,
 "nbformat_minor": 5
}
