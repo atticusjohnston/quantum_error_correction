{
 "cells": [
  {
   "cell_type": "code",
   "id": "initial_id",
   "metadata": {
    "collapsed": true,
    "ExecuteTime": {
     "end_time": "2025-10-01T06:57:04.030935Z",
     "start_time": "2025-10-01T06:57:04.027634Z"
    }
   },
   "source": [
    "import torch\n",
    "from pprint import pprint\n",
    "from quantum_error_correction import QuantumErrorCorrection\n",
    "device = torch.device('mps' if torch.mps.is_available() else 'cpu')"
   ],
   "outputs": [],
   "execution_count": 7
  },
  {
   "metadata": {
    "ExecuteTime": {
     "end_time": "2025-10-01T06:57:05.781291Z",
     "start_time": "2025-10-01T06:57:04.033361Z"
    }
   },
   "cell_type": "code",
   "source": [
    "# code_type = 'three_qubit'\n",
    "# code_type = 'five_qubit_surface'\n",
    "code_type = 'thirteen_qubit_surface'\n",
    "qec = QuantumErrorCorrection(code_type=code_type, device=device)"
   ],
   "id": "2803076be322d7b2",
   "outputs": [],
   "execution_count": 8
  },
  {
   "metadata": {
    "jupyter": {
     "is_executing": true
    },
    "ExecuteTime": {
     "start_time": "2025-10-01T06:57:05.782134Z"
    }
   },
   "cell_type": "code",
   "source": [
    "code = qec.code\n",
    "pprint(code.generate_syndromes())"
   ],
   "id": "89809534e682d931",
   "outputs": [],
   "execution_count": null
  },
  {
   "metadata": {
    "jupyter": {
     "is_executing": true
    }
   },
   "cell_type": "code",
   "source": "",
   "id": "93571b1baea105dd",
   "outputs": [],
   "execution_count": null
  }
 ],
 "metadata": {
  "kernelspec": {
   "display_name": "Python 3",
   "language": "python",
   "name": "python3"
  },
  "language_info": {
   "codemirror_mode": {
    "name": "ipython",
    "version": 2
   },
   "file_extension": ".py",
   "mimetype": "text/x-python",
   "name": "python",
   "nbconvert_exporter": "python",
   "pygments_lexer": "ipython2",
   "version": "2.7.6"
  }
 },
 "nbformat": 4,
 "nbformat_minor": 5
}
