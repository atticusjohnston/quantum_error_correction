{
 "cells": [
  {
   "cell_type": "code",
   "id": "initial_id",
   "metadata": {
    "collapsed": true,
    "ExecuteTime": {
     "end_time": "2025-10-01T15:35:32.862737Z",
     "start_time": "2025-10-01T15:35:32.859363Z"
    }
   },
   "source": [
    "import torch\n",
    "from pprint import pprint\n",
    "from quantum_error_correction import QuantumErrorCorrection\n",
    "device = torch.device('mps' if torch.mps.is_available() else 'cpu')"
   ],
   "outputs": [],
   "execution_count": 4
  },
  {
   "metadata": {
    "ExecuteTime": {
     "end_time": "2025-10-01T15:35:32.889213Z",
     "start_time": "2025-10-01T15:35:32.872371Z"
    }
   },
   "cell_type": "code",
   "source": [
    "code_type = 'three_qubit'\n",
    "# code_type = 'five_qubit_surface'\n",
    "# code_type = 'thirteen_qubit_surface'\n",
    "qec = QuantumErrorCorrection(code_type=code_type, device=device)"
   ],
   "id": "2803076be322d7b2",
   "outputs": [],
   "execution_count": 5
  },
  {
   "metadata": {
    "ExecuteTime": {
     "end_time": "2025-10-01T15:35:33.258044Z",
     "start_time": "2025-10-01T15:35:32.890333Z"
    }
   },
   "cell_type": "code",
   "source": [
    "code = qec.code\n",
    "pprint(code.generate_syndromes())"
   ],
   "id": "89809534e682d931",
   "outputs": [
    {
     "name": "stdout",
     "output_type": "stream",
     "text": [
      "{'X_1': (0, 1),\n",
      " 'X_2': (1, 1),\n",
      " 'X_3': (1, 0),\n",
      " 'Z_1': (0, 0),\n",
      " 'Z_2': (0, 0),\n",
      " 'Z_3': (0, 0)}\n"
     ]
    }
   ],
   "execution_count": 6
  },
  {
   "metadata": {
    "ExecuteTime": {
     "end_time": "2025-10-01T15:37:03.620518Z",
     "start_time": "2025-10-01T15:37:03.612166Z"
    }
   },
   "cell_type": "code",
   "source": [
    "syn = {'X_1': (0, 0, 1, 0, 0, 0, 0, 0, 0, 0, 0, 0), 'Z_1': (1, 0, 0, 0, 0, 0, 0, 0, 0, 0, 0, 0), 'X_2': (0, 0, 0, 1, 0, 0, 0, 0, 0, 0, 0, 0), 'Z_2': (1, 1, 0, 0, 0, 0, 0, 0, 0, 0, 0, 0), 'X_3': (0, 0, 0, 0, 1, 0, 0, 0, 0, 0, 0, 0), 'Z_3': (0, 1, 0, 0, 0, 0, 0, 0, 0, 0, 0, 0), 'X_4': (0, 0, 1, 1, 0, 0, 0, 0, 0, 0, 0, 0), 'Z_4': (1, 0, 0, 0, 0, 1, 0, 0, 0, 0, 0, 0), 'X_5': (0, 0, 0, 1, 1, 0, 0, 0, 0, 0, 0, 0), 'Z_5': (0, 1, 0, 0, 0, 0, 1, 0, 0, 0, 0, 0), 'X_6': (0, 0, 1, 0, 0, 0, 0, 1, 0, 0, 0, 0), 'Z_6': (0, 0, 0, 0, 0, 1, 0, 0, 0, 0, 0, 0), 'X_7': (0, 0, 0, 1, 0, 0, 0, 0, 1, 0, 0, 0), 'Z_7': (0, 0, 0, 0, 0, 1, 1, 0, 0, 0, 0, 0), 'X_8': (0, 0, 0, 0, 1, 0, 0, 0, 0, 1, 0, 0), 'Z_8': (0, 0, 0, 0, 0, 0, 1, 0, 0, 0, 0, 0), 'X_9': (0, 0, 0, 0, 0, 0, 0, 1, 1, 0, 0, 0), 'Z_9': (0, 0, 0, 0, 0, 1, 0, 0, 0, 0, 1, 0), 'X_10': (0, 0, 0, 0, 0, 0, 0, 0, 1, 1, 0, 0), 'Z_10': (0, 0, 0, 0, 0, 0, 1, 0, 0, 0, 0, 1), 'X_11': (0, 0, 0, 0, 0, 0, 0, 1, 0, 0, 0, 0), 'Z_11': (0, 0, 0, 0, 0, 0, 0, 0, 0, 0, 1, 0), 'X_12': (0, 0, 0, 0, 0, 0, 0, 0, 1, 0, 0, 0), 'Z_12': (0, 0, 0, 0, 0, 0, 0, 0, 0, 0, 1, 1), 'X_13': (0, 0, 0, 0, 0, 0, 0, 0, 0, 1, 0, 0), 'Z_13': (0, 0, 0, 0, 0, 0, 0, 0, 0, 0, 0, 1)}\n",
    "\n",
    "pprint(syn)\n",
    "\n",
    "# Extract all the tuples\n",
    "values = list(syn.values())\n",
    "\n",
    "# Compare length with length of set\n",
    "all_unique = len(values) == len(set(values))\n",
    "\n",
    "print(all_unique)  # True if all tuples are unique\n"
   ],
   "id": "93571b1baea105dd",
   "outputs": [
    {
     "name": "stdout",
     "output_type": "stream",
     "text": [
      "{'X_1': (0, 0, 1, 0, 0, 0, 0, 0, 0, 0, 0, 0),\n",
      " 'X_10': (0, 0, 0, 0, 0, 0, 0, 0, 1, 1, 0, 0),\n",
      " 'X_11': (0, 0, 0, 0, 0, 0, 0, 1, 0, 0, 0, 0),\n",
      " 'X_12': (0, 0, 0, 0, 0, 0, 0, 0, 1, 0, 0, 0),\n",
      " 'X_13': (0, 0, 0, 0, 0, 0, 0, 0, 0, 1, 0, 0),\n",
      " 'X_2': (0, 0, 0, 1, 0, 0, 0, 0, 0, 0, 0, 0),\n",
      " 'X_3': (0, 0, 0, 0, 1, 0, 0, 0, 0, 0, 0, 0),\n",
      " 'X_4': (0, 0, 1, 1, 0, 0, 0, 0, 0, 0, 0, 0),\n",
      " 'X_5': (0, 0, 0, 1, 1, 0, 0, 0, 0, 0, 0, 0),\n",
      " 'X_6': (0, 0, 1, 0, 0, 0, 0, 1, 0, 0, 0, 0),\n",
      " 'X_7': (0, 0, 0, 1, 0, 0, 0, 0, 1, 0, 0, 0),\n",
      " 'X_8': (0, 0, 0, 0, 1, 0, 0, 0, 0, 1, 0, 0),\n",
      " 'X_9': (0, 0, 0, 0, 0, 0, 0, 1, 1, 0, 0, 0),\n",
      " 'Z_1': (1, 0, 0, 0, 0, 0, 0, 0, 0, 0, 0, 0),\n",
      " 'Z_10': (0, 0, 0, 0, 0, 0, 1, 0, 0, 0, 0, 1),\n",
      " 'Z_11': (0, 0, 0, 0, 0, 0, 0, 0, 0, 0, 1, 0),\n",
      " 'Z_12': (0, 0, 0, 0, 0, 0, 0, 0, 0, 0, 1, 1),\n",
      " 'Z_13': (0, 0, 0, 0, 0, 0, 0, 0, 0, 0, 0, 1),\n",
      " 'Z_2': (1, 1, 0, 0, 0, 0, 0, 0, 0, 0, 0, 0),\n",
      " 'Z_3': (0, 1, 0, 0, 0, 0, 0, 0, 0, 0, 0, 0),\n",
      " 'Z_4': (1, 0, 0, 0, 0, 1, 0, 0, 0, 0, 0, 0),\n",
      " 'Z_5': (0, 1, 0, 0, 0, 0, 1, 0, 0, 0, 0, 0),\n",
      " 'Z_6': (0, 0, 0, 0, 0, 1, 0, 0, 0, 0, 0, 0),\n",
      " 'Z_7': (0, 0, 0, 0, 0, 1, 1, 0, 0, 0, 0, 0),\n",
      " 'Z_8': (0, 0, 0, 0, 0, 0, 1, 0, 0, 0, 0, 0),\n",
      " 'Z_9': (0, 0, 0, 0, 0, 1, 0, 0, 0, 0, 1, 0)}\n",
      "True\n"
     ]
    }
   ],
   "execution_count": 8
  },
  {
   "metadata": {},
   "cell_type": "code",
   "outputs": [],
   "execution_count": null,
   "source": "",
   "id": "603be1734faccfdd"
  }
 ],
 "metadata": {
  "kernelspec": {
   "display_name": "Python 3",
   "language": "python",
   "name": "python3"
  },
  "language_info": {
   "codemirror_mode": {
    "name": "ipython",
    "version": 2
   },
   "file_extension": ".py",
   "mimetype": "text/x-python",
   "name": "python",
   "nbconvert_exporter": "python",
   "pygments_lexer": "ipython2",
   "version": "2.7.6"
  }
 },
 "nbformat": 4,
 "nbformat_minor": 5
}
